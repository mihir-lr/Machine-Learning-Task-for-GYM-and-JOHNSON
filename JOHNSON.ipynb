{
 "cells": [
  {
   "cell_type": "code",
   "execution_count": 1,
   "id": "ababb608",
   "metadata": {},
   "outputs": [],
   "source": [
    "import pandas as pd"
   ]
  },
  {
   "cell_type": "code",
   "execution_count": 2,
   "id": "deacb911",
   "metadata": {},
   "outputs": [],
   "source": [
    "johnson = pd.read_csv(\"johnson.csv\")"
   ]
  },
  {
   "cell_type": "code",
   "execution_count": 3,
   "id": "65277002",
   "metadata": {},
   "outputs": [
    {
     "name": "stdout",
     "output_type": "stream",
     "text": [
      "                 timestamp  min_power  mean_power  max_power  z_normal\n",
      "0       2010-04-22 1:00:00        0.0           0          0       NaN\n",
      "1       2010-04-22 2:00:00        0.0           0          0       NaN\n",
      "2       2010-04-22 3:00:00        0.0           0          0       NaN\n",
      "3       2010-04-22 4:00:00        0.0           0          0       NaN\n",
      "4       2010-04-22 5:00:00        0.0           0          0       NaN\n",
      "...                    ...        ...         ...        ...       ...\n",
      "92899  2020-12-31 20:00:00        0.0           0          0       NaN\n",
      "92900  2020-12-31 21:00:00        0.0           0          0       NaN\n",
      "92901  2020-12-31 22:00:00        0.0           0          0       NaN\n",
      "92902  2020-12-31 23:00:00        0.0           0          0       NaN\n",
      "92903   2020-12-31 0:00:00        0.0           0          0       NaN\n",
      "\n",
      "[92904 rows x 5 columns]\n"
     ]
    }
   ],
   "source": [
    "print(johnson)"
   ]
  },
  {
   "cell_type": "code",
   "execution_count": 4,
   "id": "bfec6304",
   "metadata": {},
   "outputs": [
    {
     "data": {
      "text/plain": [
       "timestamp      object\n",
       "min_power     float64\n",
       "mean_power      int64\n",
       "max_power       int64\n",
       "z_normal      float64\n",
       "dtype: object"
      ]
     },
     "execution_count": 4,
     "metadata": {},
     "output_type": "execute_result"
    }
   ],
   "source": [
    "johnson.dtypes"
   ]
  },
  {
   "cell_type": "code",
   "execution_count": 5,
   "id": "d8e803dc",
   "metadata": {},
   "outputs": [
    {
     "name": "stdout",
     "output_type": "stream",
     "text": [
      "<class 'str'>\n"
     ]
    }
   ],
   "source": [
    "print(type(johnson['timestamp'][0]))"
   ]
  },
  {
   "cell_type": "code",
   "execution_count": 6,
   "id": "a08115f3",
   "metadata": {},
   "outputs": [],
   "source": [
    "from datetime import datetime"
   ]
  },
  {
   "cell_type": "code",
   "execution_count": 7,
   "id": "5f739e37",
   "metadata": {},
   "outputs": [],
   "source": [
    "johnson['timestamp'] = pd.to_datetime(johnson['timestamp'])"
   ]
  },
  {
   "cell_type": "code",
   "execution_count": 8,
   "id": "394736d0",
   "metadata": {},
   "outputs": [
    {
     "name": "stdout",
     "output_type": "stream",
     "text": [
      "                timestamp  min_power  mean_power  max_power  z_normal\n",
      "0     2010-04-22 01:00:00        0.0           0          0       NaN\n",
      "1     2010-04-22 02:00:00        0.0           0          0       NaN\n",
      "2     2010-04-22 03:00:00        0.0           0          0       NaN\n",
      "3     2010-04-22 04:00:00        0.0           0          0       NaN\n",
      "4     2010-04-22 05:00:00        0.0           0          0       NaN\n",
      "...                   ...        ...         ...        ...       ...\n",
      "92899 2020-12-31 20:00:00        0.0           0          0       NaN\n",
      "92900 2020-12-31 21:00:00        0.0           0          0       NaN\n",
      "92901 2020-12-31 22:00:00        0.0           0          0       NaN\n",
      "92902 2020-12-31 23:00:00        0.0           0          0       NaN\n",
      "92903 2020-12-31 00:00:00        0.0           0          0       NaN\n",
      "\n",
      "[92904 rows x 5 columns]\n"
     ]
    }
   ],
   "source": [
    "print(johnson)"
   ]
  },
  {
   "cell_type": "code",
   "execution_count": 9,
   "id": "6369e2a9",
   "metadata": {},
   "outputs": [
    {
     "data": {
      "text/plain": [
       "timestamp     datetime64[ns]\n",
       "min_power            float64\n",
       "mean_power             int64\n",
       "max_power              int64\n",
       "z_normal             float64\n",
       "dtype: object"
      ]
     },
     "execution_count": 9,
     "metadata": {},
     "output_type": "execute_result"
    }
   ],
   "source": [
    "johnson.dtypes"
   ]
  },
  {
   "cell_type": "code",
   "execution_count": 10,
   "id": "505aa3c1",
   "metadata": {},
   "outputs": [],
   "source": [
    "new_df = johnson"
   ]
  },
  {
   "cell_type": "code",
   "execution_count": 11,
   "id": "42ed77df",
   "metadata": {},
   "outputs": [
    {
     "data": {
      "text/html": [
       "<div>\n",
       "<style scoped>\n",
       "    .dataframe tbody tr th:only-of-type {\n",
       "        vertical-align: middle;\n",
       "    }\n",
       "\n",
       "    .dataframe tbody tr th {\n",
       "        vertical-align: top;\n",
       "    }\n",
       "\n",
       "    .dataframe thead th {\n",
       "        text-align: right;\n",
       "    }\n",
       "</style>\n",
       "<table border=\"1\" class=\"dataframe\">\n",
       "  <thead>\n",
       "    <tr style=\"text-align: right;\">\n",
       "      <th></th>\n",
       "      <th>timestamp</th>\n",
       "      <th>min_power</th>\n",
       "      <th>mean_power</th>\n",
       "      <th>max_power</th>\n",
       "      <th>z_normal</th>\n",
       "    </tr>\n",
       "  </thead>\n",
       "  <tbody>\n",
       "    <tr>\n",
       "      <th>0</th>\n",
       "      <td>2010-04-22 01:00:00</td>\n",
       "      <td>0.0</td>\n",
       "      <td>0</td>\n",
       "      <td>0</td>\n",
       "      <td>NaN</td>\n",
       "    </tr>\n",
       "    <tr>\n",
       "      <th>1</th>\n",
       "      <td>2010-04-22 02:00:00</td>\n",
       "      <td>0.0</td>\n",
       "      <td>0</td>\n",
       "      <td>0</td>\n",
       "      <td>NaN</td>\n",
       "    </tr>\n",
       "    <tr>\n",
       "      <th>2</th>\n",
       "      <td>2010-04-22 03:00:00</td>\n",
       "      <td>0.0</td>\n",
       "      <td>0</td>\n",
       "      <td>0</td>\n",
       "      <td>NaN</td>\n",
       "    </tr>\n",
       "    <tr>\n",
       "      <th>3</th>\n",
       "      <td>2010-04-22 04:00:00</td>\n",
       "      <td>0.0</td>\n",
       "      <td>0</td>\n",
       "      <td>0</td>\n",
       "      <td>NaN</td>\n",
       "    </tr>\n",
       "    <tr>\n",
       "      <th>4</th>\n",
       "      <td>2010-04-22 05:00:00</td>\n",
       "      <td>0.0</td>\n",
       "      <td>0</td>\n",
       "      <td>0</td>\n",
       "      <td>NaN</td>\n",
       "    </tr>\n",
       "    <tr>\n",
       "      <th>...</th>\n",
       "      <td>...</td>\n",
       "      <td>...</td>\n",
       "      <td>...</td>\n",
       "      <td>...</td>\n",
       "      <td>...</td>\n",
       "    </tr>\n",
       "    <tr>\n",
       "      <th>92899</th>\n",
       "      <td>2020-12-31 20:00:00</td>\n",
       "      <td>0.0</td>\n",
       "      <td>0</td>\n",
       "      <td>0</td>\n",
       "      <td>NaN</td>\n",
       "    </tr>\n",
       "    <tr>\n",
       "      <th>92900</th>\n",
       "      <td>2020-12-31 21:00:00</td>\n",
       "      <td>0.0</td>\n",
       "      <td>0</td>\n",
       "      <td>0</td>\n",
       "      <td>NaN</td>\n",
       "    </tr>\n",
       "    <tr>\n",
       "      <th>92901</th>\n",
       "      <td>2020-12-31 22:00:00</td>\n",
       "      <td>0.0</td>\n",
       "      <td>0</td>\n",
       "      <td>0</td>\n",
       "      <td>NaN</td>\n",
       "    </tr>\n",
       "    <tr>\n",
       "      <th>92902</th>\n",
       "      <td>2020-12-31 23:00:00</td>\n",
       "      <td>0.0</td>\n",
       "      <td>0</td>\n",
       "      <td>0</td>\n",
       "      <td>NaN</td>\n",
       "    </tr>\n",
       "    <tr>\n",
       "      <th>92903</th>\n",
       "      <td>2020-12-31 00:00:00</td>\n",
       "      <td>0.0</td>\n",
       "      <td>0</td>\n",
       "      <td>0</td>\n",
       "      <td>NaN</td>\n",
       "    </tr>\n",
       "  </tbody>\n",
       "</table>\n",
       "<p>92904 rows × 5 columns</p>\n",
       "</div>"
      ],
      "text/plain": [
       "                timestamp  min_power  mean_power  max_power  z_normal\n",
       "0     2010-04-22 01:00:00        0.0           0          0       NaN\n",
       "1     2010-04-22 02:00:00        0.0           0          0       NaN\n",
       "2     2010-04-22 03:00:00        0.0           0          0       NaN\n",
       "3     2010-04-22 04:00:00        0.0           0          0       NaN\n",
       "4     2010-04-22 05:00:00        0.0           0          0       NaN\n",
       "...                   ...        ...         ...        ...       ...\n",
       "92899 2020-12-31 20:00:00        0.0           0          0       NaN\n",
       "92900 2020-12-31 21:00:00        0.0           0          0       NaN\n",
       "92901 2020-12-31 22:00:00        0.0           0          0       NaN\n",
       "92902 2020-12-31 23:00:00        0.0           0          0       NaN\n",
       "92903 2020-12-31 00:00:00        0.0           0          0       NaN\n",
       "\n",
       "[92904 rows x 5 columns]"
      ]
     },
     "execution_count": 11,
     "metadata": {},
     "output_type": "execute_result"
    }
   ],
   "source": [
    "new_df"
   ]
  },
  {
   "cell_type": "code",
   "execution_count": 12,
   "id": "e3ac2bfa",
   "metadata": {},
   "outputs": [
    {
     "data": {
      "text/plain": [
       "timestamp     datetime64[ns]\n",
       "min_power            float64\n",
       "mean_power             int64\n",
       "max_power              int64\n",
       "z_normal             float64\n",
       "dtype: object"
      ]
     },
     "execution_count": 12,
     "metadata": {},
     "output_type": "execute_result"
    }
   ],
   "source": [
    "new_df.dtypes"
   ]
  },
  {
   "cell_type": "code",
   "execution_count": 13,
   "id": "2c2d232b",
   "metadata": {},
   "outputs": [],
   "source": [
    "import pandasql as ps"
   ]
  },
  {
   "cell_type": "code",
   "execution_count": 14,
   "id": "7c01a48c",
   "metadata": {
    "scrolled": true
   },
   "outputs": [],
   "source": [
    "query = \"\"\"SELECT * FROM new_df WHERE TIME(timestamp) BETWEEN TIME('05:00:00') AND TIME('19:00:00') AND mean_power = 0\"\"\"\n",
    "zero_df = ps.sqldf(query, locals())"
   ]
  },
  {
   "cell_type": "code",
   "execution_count": 15,
   "id": "ddc5296f",
   "metadata": {},
   "outputs": [
    {
     "data": {
      "text/html": [
       "<div>\n",
       "<style scoped>\n",
       "    .dataframe tbody tr th:only-of-type {\n",
       "        vertical-align: middle;\n",
       "    }\n",
       "\n",
       "    .dataframe tbody tr th {\n",
       "        vertical-align: top;\n",
       "    }\n",
       "\n",
       "    .dataframe thead th {\n",
       "        text-align: right;\n",
       "    }\n",
       "</style>\n",
       "<table border=\"1\" class=\"dataframe\">\n",
       "  <thead>\n",
       "    <tr style=\"text-align: right;\">\n",
       "      <th></th>\n",
       "      <th>timestamp</th>\n",
       "      <th>min_power</th>\n",
       "      <th>mean_power</th>\n",
       "      <th>max_power</th>\n",
       "      <th>z_normal</th>\n",
       "    </tr>\n",
       "  </thead>\n",
       "  <tbody>\n",
       "    <tr>\n",
       "      <th>0</th>\n",
       "      <td>2010-04-22 05:00:00.000000</td>\n",
       "      <td>0.0</td>\n",
       "      <td>0</td>\n",
       "      <td>0</td>\n",
       "      <td>None</td>\n",
       "    </tr>\n",
       "    <tr>\n",
       "      <th>1</th>\n",
       "      <td>2010-04-22 06:00:00.000000</td>\n",
       "      <td>0.0</td>\n",
       "      <td>0</td>\n",
       "      <td>0</td>\n",
       "      <td>None</td>\n",
       "    </tr>\n",
       "    <tr>\n",
       "      <th>2</th>\n",
       "      <td>2010-04-22 07:00:00.000000</td>\n",
       "      <td>0.0</td>\n",
       "      <td>0</td>\n",
       "      <td>0</td>\n",
       "      <td>None</td>\n",
       "    </tr>\n",
       "    <tr>\n",
       "      <th>3</th>\n",
       "      <td>2010-04-22 08:00:00.000000</td>\n",
       "      <td>0.0</td>\n",
       "      <td>0</td>\n",
       "      <td>0</td>\n",
       "      <td>None</td>\n",
       "    </tr>\n",
       "    <tr>\n",
       "      <th>4</th>\n",
       "      <td>2010-04-22 09:00:00.000000</td>\n",
       "      <td>0.0</td>\n",
       "      <td>0</td>\n",
       "      <td>0</td>\n",
       "      <td>None</td>\n",
       "    </tr>\n",
       "    <tr>\n",
       "      <th>...</th>\n",
       "      <td>...</td>\n",
       "      <td>...</td>\n",
       "      <td>...</td>\n",
       "      <td>...</td>\n",
       "      <td>...</td>\n",
       "    </tr>\n",
       "    <tr>\n",
       "      <th>11210</th>\n",
       "      <td>2020-12-31 05:00:00.000000</td>\n",
       "      <td>0.0</td>\n",
       "      <td>0</td>\n",
       "      <td>0</td>\n",
       "      <td>None</td>\n",
       "    </tr>\n",
       "    <tr>\n",
       "      <th>11211</th>\n",
       "      <td>2020-12-31 06:00:00.000000</td>\n",
       "      <td>0.0</td>\n",
       "      <td>0</td>\n",
       "      <td>0</td>\n",
       "      <td>None</td>\n",
       "    </tr>\n",
       "    <tr>\n",
       "      <th>11212</th>\n",
       "      <td>2020-12-31 07:00:00.000000</td>\n",
       "      <td>0.0</td>\n",
       "      <td>0</td>\n",
       "      <td>0</td>\n",
       "      <td>None</td>\n",
       "    </tr>\n",
       "    <tr>\n",
       "      <th>11213</th>\n",
       "      <td>2020-12-31 18:00:00.000000</td>\n",
       "      <td>0.0</td>\n",
       "      <td>0</td>\n",
       "      <td>0</td>\n",
       "      <td>None</td>\n",
       "    </tr>\n",
       "    <tr>\n",
       "      <th>11214</th>\n",
       "      <td>2020-12-31 19:00:00.000000</td>\n",
       "      <td>0.0</td>\n",
       "      <td>0</td>\n",
       "      <td>0</td>\n",
       "      <td>None</td>\n",
       "    </tr>\n",
       "  </tbody>\n",
       "</table>\n",
       "<p>11215 rows × 5 columns</p>\n",
       "</div>"
      ],
      "text/plain": [
       "                        timestamp  min_power  mean_power  max_power z_normal\n",
       "0      2010-04-22 05:00:00.000000        0.0           0          0     None\n",
       "1      2010-04-22 06:00:00.000000        0.0           0          0     None\n",
       "2      2010-04-22 07:00:00.000000        0.0           0          0     None\n",
       "3      2010-04-22 08:00:00.000000        0.0           0          0     None\n",
       "4      2010-04-22 09:00:00.000000        0.0           0          0     None\n",
       "...                           ...        ...         ...        ...      ...\n",
       "11210  2020-12-31 05:00:00.000000        0.0           0          0     None\n",
       "11211  2020-12-31 06:00:00.000000        0.0           0          0     None\n",
       "11212  2020-12-31 07:00:00.000000        0.0           0          0     None\n",
       "11213  2020-12-31 18:00:00.000000        0.0           0          0     None\n",
       "11214  2020-12-31 19:00:00.000000        0.0           0          0     None\n",
       "\n",
       "[11215 rows x 5 columns]"
      ]
     },
     "execution_count": 15,
     "metadata": {},
     "output_type": "execute_result"
    }
   ],
   "source": [
    "zero_df"
   ]
  },
  {
   "cell_type": "code",
   "execution_count": 16,
   "id": "8906ecd6",
   "metadata": {},
   "outputs": [
    {
     "data": {
      "text/plain": [
       "timestamp      object\n",
       "min_power     float64\n",
       "mean_power      int64\n",
       "max_power       int64\n",
       "z_normal       object\n",
       "dtype: object"
      ]
     },
     "execution_count": 16,
     "metadata": {},
     "output_type": "execute_result"
    }
   ],
   "source": [
    "zero_df.dtypes"
   ]
  },
  {
   "cell_type": "code",
   "execution_count": 17,
   "id": "4e7cb8cc",
   "metadata": {},
   "outputs": [],
   "source": [
    "zero_df['timestamp'] = pd.to_datetime(zero_df['timestamp'])"
   ]
  },
  {
   "cell_type": "code",
   "execution_count": 18,
   "id": "85113140",
   "metadata": {},
   "outputs": [
    {
     "data": {
      "text/plain": [
       "timestamp     datetime64[ns]\n",
       "min_power            float64\n",
       "mean_power             int64\n",
       "max_power              int64\n",
       "z_normal              object\n",
       "dtype: object"
      ]
     },
     "execution_count": 18,
     "metadata": {},
     "output_type": "execute_result"
    }
   ],
   "source": [
    "zero_df.dtypes"
   ]
  },
  {
   "cell_type": "code",
   "execution_count": 19,
   "id": "0191d72b",
   "metadata": {},
   "outputs": [],
   "source": [
    "zero_df['z_normal'] = zero_df['z_normal'].apply(pd.to_numeric, downcast='float', errors='coerce')"
   ]
  },
  {
   "cell_type": "code",
   "execution_count": 20,
   "id": "00b935af",
   "metadata": {},
   "outputs": [
    {
     "data": {
      "text/plain": [
       "timestamp     datetime64[ns]\n",
       "min_power            float64\n",
       "mean_power             int64\n",
       "max_power              int64\n",
       "z_normal             float32\n",
       "dtype: object"
      ]
     },
     "execution_count": 20,
     "metadata": {},
     "output_type": "execute_result"
    }
   ],
   "source": [
    "zero_df.dtypes"
   ]
  },
  {
   "cell_type": "code",
   "execution_count": 21,
   "id": "8c054af5",
   "metadata": {
    "scrolled": false
   },
   "outputs": [
    {
     "data": {
      "text/html": [
       "<div>\n",
       "<style scoped>\n",
       "    .dataframe tbody tr th:only-of-type {\n",
       "        vertical-align: middle;\n",
       "    }\n",
       "\n",
       "    .dataframe tbody tr th {\n",
       "        vertical-align: top;\n",
       "    }\n",
       "\n",
       "    .dataframe thead th {\n",
       "        text-align: right;\n",
       "    }\n",
       "</style>\n",
       "<table border=\"1\" class=\"dataframe\">\n",
       "  <thead>\n",
       "    <tr style=\"text-align: right;\">\n",
       "      <th></th>\n",
       "      <th>timestamp</th>\n",
       "      <th>min_power</th>\n",
       "      <th>mean_power</th>\n",
       "      <th>max_power</th>\n",
       "      <th>z_normal</th>\n",
       "    </tr>\n",
       "  </thead>\n",
       "  <tbody>\n",
       "    <tr>\n",
       "      <th>0</th>\n",
       "      <td>2010-04-22 05:00:00</td>\n",
       "      <td>0.0</td>\n",
       "      <td>0</td>\n",
       "      <td>0</td>\n",
       "      <td>NaN</td>\n",
       "    </tr>\n",
       "    <tr>\n",
       "      <th>1</th>\n",
       "      <td>2010-04-22 06:00:00</td>\n",
       "      <td>0.0</td>\n",
       "      <td>0</td>\n",
       "      <td>0</td>\n",
       "      <td>NaN</td>\n",
       "    </tr>\n",
       "    <tr>\n",
       "      <th>2</th>\n",
       "      <td>2010-04-22 07:00:00</td>\n",
       "      <td>0.0</td>\n",
       "      <td>0</td>\n",
       "      <td>0</td>\n",
       "      <td>NaN</td>\n",
       "    </tr>\n",
       "    <tr>\n",
       "      <th>3</th>\n",
       "      <td>2010-04-22 08:00:00</td>\n",
       "      <td>0.0</td>\n",
       "      <td>0</td>\n",
       "      <td>0</td>\n",
       "      <td>NaN</td>\n",
       "    </tr>\n",
       "    <tr>\n",
       "      <th>4</th>\n",
       "      <td>2010-04-22 09:00:00</td>\n",
       "      <td>0.0</td>\n",
       "      <td>0</td>\n",
       "      <td>0</td>\n",
       "      <td>NaN</td>\n",
       "    </tr>\n",
       "    <tr>\n",
       "      <th>...</th>\n",
       "      <td>...</td>\n",
       "      <td>...</td>\n",
       "      <td>...</td>\n",
       "      <td>...</td>\n",
       "      <td>...</td>\n",
       "    </tr>\n",
       "    <tr>\n",
       "      <th>11210</th>\n",
       "      <td>2020-12-31 05:00:00</td>\n",
       "      <td>0.0</td>\n",
       "      <td>0</td>\n",
       "      <td>0</td>\n",
       "      <td>NaN</td>\n",
       "    </tr>\n",
       "    <tr>\n",
       "      <th>11211</th>\n",
       "      <td>2020-12-31 06:00:00</td>\n",
       "      <td>0.0</td>\n",
       "      <td>0</td>\n",
       "      <td>0</td>\n",
       "      <td>NaN</td>\n",
       "    </tr>\n",
       "    <tr>\n",
       "      <th>11212</th>\n",
       "      <td>2020-12-31 07:00:00</td>\n",
       "      <td>0.0</td>\n",
       "      <td>0</td>\n",
       "      <td>0</td>\n",
       "      <td>NaN</td>\n",
       "    </tr>\n",
       "    <tr>\n",
       "      <th>11213</th>\n",
       "      <td>2020-12-31 18:00:00</td>\n",
       "      <td>0.0</td>\n",
       "      <td>0</td>\n",
       "      <td>0</td>\n",
       "      <td>NaN</td>\n",
       "    </tr>\n",
       "    <tr>\n",
       "      <th>11214</th>\n",
       "      <td>2020-12-31 19:00:00</td>\n",
       "      <td>0.0</td>\n",
       "      <td>0</td>\n",
       "      <td>0</td>\n",
       "      <td>NaN</td>\n",
       "    </tr>\n",
       "  </tbody>\n",
       "</table>\n",
       "<p>11215 rows × 5 columns</p>\n",
       "</div>"
      ],
      "text/plain": [
       "                timestamp  min_power  mean_power  max_power  z_normal\n",
       "0     2010-04-22 05:00:00        0.0           0          0       NaN\n",
       "1     2010-04-22 06:00:00        0.0           0          0       NaN\n",
       "2     2010-04-22 07:00:00        0.0           0          0       NaN\n",
       "3     2010-04-22 08:00:00        0.0           0          0       NaN\n",
       "4     2010-04-22 09:00:00        0.0           0          0       NaN\n",
       "...                   ...        ...         ...        ...       ...\n",
       "11210 2020-12-31 05:00:00        0.0           0          0       NaN\n",
       "11211 2020-12-31 06:00:00        0.0           0          0       NaN\n",
       "11212 2020-12-31 07:00:00        0.0           0          0       NaN\n",
       "11213 2020-12-31 18:00:00        0.0           0          0       NaN\n",
       "11214 2020-12-31 19:00:00        0.0           0          0       NaN\n",
       "\n",
       "[11215 rows x 5 columns]"
      ]
     },
     "execution_count": 21,
     "metadata": {},
     "output_type": "execute_result"
    }
   ],
   "source": [
    "zero_df"
   ]
  },
  {
   "cell_type": "code",
   "execution_count": 22,
   "id": "6371f342",
   "metadata": {},
   "outputs": [],
   "source": [
    "final_df = pd.merge(new_df,zero_df, indicator=True, how='outer').query('_merge==\"left_only\"').drop('_merge', axis=1)"
   ]
  },
  {
   "cell_type": "code",
   "execution_count": 23,
   "id": "8072cf42",
   "metadata": {
    "scrolled": false
   },
   "outputs": [
    {
     "data": {
      "text/html": [
       "<div>\n",
       "<style scoped>\n",
       "    .dataframe tbody tr th:only-of-type {\n",
       "        vertical-align: middle;\n",
       "    }\n",
       "\n",
       "    .dataframe tbody tr th {\n",
       "        vertical-align: top;\n",
       "    }\n",
       "\n",
       "    .dataframe thead th {\n",
       "        text-align: right;\n",
       "    }\n",
       "</style>\n",
       "<table border=\"1\" class=\"dataframe\">\n",
       "  <thead>\n",
       "    <tr style=\"text-align: right;\">\n",
       "      <th></th>\n",
       "      <th>timestamp</th>\n",
       "      <th>min_power</th>\n",
       "      <th>mean_power</th>\n",
       "      <th>max_power</th>\n",
       "      <th>z_normal</th>\n",
       "    </tr>\n",
       "  </thead>\n",
       "  <tbody>\n",
       "    <tr>\n",
       "      <th>0</th>\n",
       "      <td>2010-04-22 01:00:00</td>\n",
       "      <td>0.0</td>\n",
       "      <td>0</td>\n",
       "      <td>0</td>\n",
       "      <td>NaN</td>\n",
       "    </tr>\n",
       "    <tr>\n",
       "      <th>1</th>\n",
       "      <td>2010-04-22 02:00:00</td>\n",
       "      <td>0.0</td>\n",
       "      <td>0</td>\n",
       "      <td>0</td>\n",
       "      <td>NaN</td>\n",
       "    </tr>\n",
       "    <tr>\n",
       "      <th>2</th>\n",
       "      <td>2010-04-22 03:00:00</td>\n",
       "      <td>0.0</td>\n",
       "      <td>0</td>\n",
       "      <td>0</td>\n",
       "      <td>NaN</td>\n",
       "    </tr>\n",
       "    <tr>\n",
       "      <th>3</th>\n",
       "      <td>2010-04-22 04:00:00</td>\n",
       "      <td>0.0</td>\n",
       "      <td>0</td>\n",
       "      <td>0</td>\n",
       "      <td>NaN</td>\n",
       "    </tr>\n",
       "    <tr>\n",
       "      <th>15</th>\n",
       "      <td>2010-04-22 16:00:00</td>\n",
       "      <td>36830.0</td>\n",
       "      <td>38520</td>\n",
       "      <td>40180</td>\n",
       "      <td>NaN</td>\n",
       "    </tr>\n",
       "    <tr>\n",
       "      <th>...</th>\n",
       "      <td>...</td>\n",
       "      <td>...</td>\n",
       "      <td>...</td>\n",
       "      <td>...</td>\n",
       "      <td>...</td>\n",
       "    </tr>\n",
       "    <tr>\n",
       "      <th>92899</th>\n",
       "      <td>2020-12-31 20:00:00</td>\n",
       "      <td>0.0</td>\n",
       "      <td>0</td>\n",
       "      <td>0</td>\n",
       "      <td>NaN</td>\n",
       "    </tr>\n",
       "    <tr>\n",
       "      <th>92900</th>\n",
       "      <td>2020-12-31 21:00:00</td>\n",
       "      <td>0.0</td>\n",
       "      <td>0</td>\n",
       "      <td>0</td>\n",
       "      <td>NaN</td>\n",
       "    </tr>\n",
       "    <tr>\n",
       "      <th>92901</th>\n",
       "      <td>2020-12-31 22:00:00</td>\n",
       "      <td>0.0</td>\n",
       "      <td>0</td>\n",
       "      <td>0</td>\n",
       "      <td>NaN</td>\n",
       "    </tr>\n",
       "    <tr>\n",
       "      <th>92902</th>\n",
       "      <td>2020-12-31 23:00:00</td>\n",
       "      <td>0.0</td>\n",
       "      <td>0</td>\n",
       "      <td>0</td>\n",
       "      <td>NaN</td>\n",
       "    </tr>\n",
       "    <tr>\n",
       "      <th>92903</th>\n",
       "      <td>2020-12-31 00:00:00</td>\n",
       "      <td>0.0</td>\n",
       "      <td>0</td>\n",
       "      <td>0</td>\n",
       "      <td>NaN</td>\n",
       "    </tr>\n",
       "  </tbody>\n",
       "</table>\n",
       "<p>81689 rows × 5 columns</p>\n",
       "</div>"
      ],
      "text/plain": [
       "                timestamp  min_power  mean_power  max_power  z_normal\n",
       "0     2010-04-22 01:00:00        0.0           0          0       NaN\n",
       "1     2010-04-22 02:00:00        0.0           0          0       NaN\n",
       "2     2010-04-22 03:00:00        0.0           0          0       NaN\n",
       "3     2010-04-22 04:00:00        0.0           0          0       NaN\n",
       "15    2010-04-22 16:00:00    36830.0       38520      40180       NaN\n",
       "...                   ...        ...         ...        ...       ...\n",
       "92899 2020-12-31 20:00:00        0.0           0          0       NaN\n",
       "92900 2020-12-31 21:00:00        0.0           0          0       NaN\n",
       "92901 2020-12-31 22:00:00        0.0           0          0       NaN\n",
       "92902 2020-12-31 23:00:00        0.0           0          0       NaN\n",
       "92903 2020-12-31 00:00:00        0.0           0          0       NaN\n",
       "\n",
       "[81689 rows x 5 columns]"
      ]
     },
     "execution_count": 23,
     "metadata": {},
     "output_type": "execute_result"
    }
   ],
   "source": [
    "final_df"
   ]
  },
  {
   "cell_type": "code",
   "execution_count": 24,
   "id": "fcb30b69",
   "metadata": {},
   "outputs": [],
   "source": [
    "final_df.to_csv('johnson_non_zero.csv')"
   ]
  },
  {
   "cell_type": "code",
   "execution_count": 25,
   "id": "dfc92020",
   "metadata": {},
   "outputs": [],
   "source": [
    "query2 = \"\"\"SELECT AVG(mean_power) FROM final_df GROUP BY TIME(timestamp)\"\"\"\n",
    "answer_avg = ps.sqldf(query2, locals())"
   ]
  },
  {
   "cell_type": "code",
   "execution_count": 26,
   "id": "dc33ac7c",
   "metadata": {},
   "outputs": [],
   "source": [
    "answer_avg = answer_avg.rename(columns={'AVG(mean_power)': 'Average Mean Power'})"
   ]
  },
  {
   "cell_type": "code",
   "execution_count": 27,
   "id": "64425088",
   "metadata": {},
   "outputs": [],
   "source": [
    "answer_avg.index.names = ['Timestamp']"
   ]
  },
  {
   "cell_type": "code",
   "execution_count": 38,
   "id": "a60fa06c",
   "metadata": {},
   "outputs": [
    {
     "data": {
      "text/html": [
       "<div>\n",
       "<style scoped>\n",
       "    .dataframe tbody tr th:only-of-type {\n",
       "        vertical-align: middle;\n",
       "    }\n",
       "\n",
       "    .dataframe tbody tr th {\n",
       "        vertical-align: top;\n",
       "    }\n",
       "\n",
       "    .dataframe thead th {\n",
       "        text-align: right;\n",
       "    }\n",
       "</style>\n",
       "<table border=\"1\" class=\"dataframe\">\n",
       "  <thead>\n",
       "    <tr style=\"text-align: right;\">\n",
       "      <th></th>\n",
       "      <th>Average Mean Power</th>\n",
       "    </tr>\n",
       "    <tr>\n",
       "      <th>Timestamp</th>\n",
       "      <th></th>\n",
       "    </tr>\n",
       "  </thead>\n",
       "  <tbody>\n",
       "    <tr>\n",
       "      <th>0</th>\n",
       "      <td>0.000000</td>\n",
       "    </tr>\n",
       "    <tr>\n",
       "      <th>1</th>\n",
       "      <td>0.000000</td>\n",
       "    </tr>\n",
       "    <tr>\n",
       "      <th>2</th>\n",
       "      <td>0.000000</td>\n",
       "    </tr>\n",
       "    <tr>\n",
       "      <th>3</th>\n",
       "      <td>0.000000</td>\n",
       "    </tr>\n",
       "    <tr>\n",
       "      <th>4</th>\n",
       "      <td>0.000000</td>\n",
       "    </tr>\n",
       "    <tr>\n",
       "      <th>5</th>\n",
       "      <td>1.000000</td>\n",
       "    </tr>\n",
       "    <tr>\n",
       "      <th>6</th>\n",
       "      <td>58.317972</td>\n",
       "    </tr>\n",
       "    <tr>\n",
       "      <th>7</th>\n",
       "      <td>752.312919</td>\n",
       "    </tr>\n",
       "    <tr>\n",
       "      <th>8</th>\n",
       "      <td>4544.258710</td>\n",
       "    </tr>\n",
       "    <tr>\n",
       "      <th>9</th>\n",
       "      <td>12171.423047</td>\n",
       "    </tr>\n",
       "    <tr>\n",
       "      <th>10</th>\n",
       "      <td>19822.594966</td>\n",
       "    </tr>\n",
       "    <tr>\n",
       "      <th>11</th>\n",
       "      <td>26360.223145</td>\n",
       "    </tr>\n",
       "    <tr>\n",
       "      <th>12</th>\n",
       "      <td>30601.212286</td>\n",
       "    </tr>\n",
       "    <tr>\n",
       "      <th>13</th>\n",
       "      <td>32203.808698</td>\n",
       "    </tr>\n",
       "    <tr>\n",
       "      <th>14</th>\n",
       "      <td>31003.390843</td>\n",
       "    </tr>\n",
       "    <tr>\n",
       "      <th>15</th>\n",
       "      <td>27024.592180</td>\n",
       "    </tr>\n",
       "    <tr>\n",
       "      <th>16</th>\n",
       "      <td>20429.185348</td>\n",
       "    </tr>\n",
       "    <tr>\n",
       "      <th>17</th>\n",
       "      <td>12626.568867</td>\n",
       "    </tr>\n",
       "    <tr>\n",
       "      <th>18</th>\n",
       "      <td>8157.147508</td>\n",
       "    </tr>\n",
       "    <tr>\n",
       "      <th>19</th>\n",
       "      <td>3673.997981</td>\n",
       "    </tr>\n",
       "    <tr>\n",
       "      <th>20</th>\n",
       "      <td>182.452080</td>\n",
       "    </tr>\n",
       "    <tr>\n",
       "      <th>21</th>\n",
       "      <td>0.000000</td>\n",
       "    </tr>\n",
       "    <tr>\n",
       "      <th>22</th>\n",
       "      <td>0.000000</td>\n",
       "    </tr>\n",
       "    <tr>\n",
       "      <th>23</th>\n",
       "      <td>0.000000</td>\n",
       "    </tr>\n",
       "  </tbody>\n",
       "</table>\n",
       "</div>"
      ],
      "text/plain": [
       "           Average Mean Power\n",
       "Timestamp                    \n",
       "0                    0.000000\n",
       "1                    0.000000\n",
       "2                    0.000000\n",
       "3                    0.000000\n",
       "4                    0.000000\n",
       "5                    1.000000\n",
       "6                   58.317972\n",
       "7                  752.312919\n",
       "8                 4544.258710\n",
       "9                12171.423047\n",
       "10               19822.594966\n",
       "11               26360.223145\n",
       "12               30601.212286\n",
       "13               32203.808698\n",
       "14               31003.390843\n",
       "15               27024.592180\n",
       "16               20429.185348\n",
       "17               12626.568867\n",
       "18                8157.147508\n",
       "19                3673.997981\n",
       "20                 182.452080\n",
       "21                   0.000000\n",
       "22                   0.000000\n",
       "23                   0.000000"
      ]
     },
     "execution_count": 38,
     "metadata": {},
     "output_type": "execute_result"
    }
   ],
   "source": [
    "answer_avg"
   ]
  },
  {
   "cell_type": "code",
   "execution_count": 28,
   "id": "a5a3cc17",
   "metadata": {},
   "outputs": [],
   "source": [
    "import matplotlib.pyplot as plt"
   ]
  },
  {
   "cell_type": "code",
   "execution_count": 29,
   "id": "e17f1a4f",
   "metadata": {},
   "outputs": [],
   "source": [
    "y_data_df = []\n",
    "for i in answer_avg['Average Mean Power']:\n",
    "    y_data_df.append(float(i/1000))"
   ]
  },
  {
   "cell_type": "code",
   "execution_count": 30,
   "id": "d806d558",
   "metadata": {},
   "outputs": [],
   "source": [
    "x_data_df = []\n",
    "for i in answer_avg.index:\n",
    "    x_data_df.append(i)"
   ]
  },
  {
   "cell_type": "code",
   "execution_count": 31,
   "id": "d0d01160",
   "metadata": {},
   "outputs": [],
   "source": [
    "import matplotlib.pyplot as plt\n",
    "from matplotlib.ticker import FormatStrFormatter"
   ]
  },
  {
   "cell_type": "code",
   "execution_count": 32,
   "id": "eb676cf2",
   "metadata": {},
   "outputs": [
    {
     "data": {
      "text/plain": [
       "<Figure size 432x288 with 0 Axes>"
      ]
     },
     "metadata": {},
     "output_type": "display_data"
    },
    {
     "data": {
      "image/png": "[encoded data removed]",
      "text/plain": [
       "<Figure size 720x504 with 1 Axes>"
      ]
     },
     "metadata": {
      "needs_background": "light"
     },
     "output_type": "display_data"
    }
   ],
   "source": [
    "fig=plt.figure()\n",
    "\n",
    "plt.figure(figsize=(10,7))\n",
    "plt.bar(x=x_data_df, height=y_data_df,color='white', edgecolor='#111111')\n",
    "plt.title(\"JOHNSON Average Mean Power Data\", fontsize=25, pad=20)\n",
    "plt.xlabel('Timestamp [H]', fontsize=18)\n",
    "plt.ylabel('Average Mean Power [KWh]', fontsize=18)\n",
    "# plt.gca().yaxis.set_major_formatter(FormatStrFormatter('%d KWh'))\n",
    "# plt.fill_between(x_data_df, y_data_df,color='#000000')\n",
    "# plt.figure(figsize=(5, 5))\n",
    "\n",
    "\n",
    "plt.show()"
   ]
  },
  {
   "cell_type": "code",
   "execution_count": 33,
   "id": "193c2a51",
   "metadata": {},
   "outputs": [],
   "source": [
    "std_df = final_df.groupby([final_df['timestamp'].dt.time])['mean_power'].std()"
   ]
  },
  {
   "cell_type": "code",
   "execution_count": 37,
   "id": "c7c1d9bf",
   "metadata": {},
   "outputs": [
    {
     "data": {
      "text/plain": [
       "timestamp\n",
       "00:00:00        0.000000\n",
       "01:00:00        0.000000\n",
       "02:00:00        0.000000\n",
       "03:00:00        0.000000\n",
       "04:00:00        0.000000\n",
       "05:00:00             NaN\n",
       "06:00:00      128.902688\n",
       "07:00:00      772.820909\n",
       "08:00:00     2796.011445\n",
       "09:00:00     4897.048252\n",
       "10:00:00     6639.720713\n",
       "11:00:00     8014.859096\n",
       "12:00:00     9176.161208\n",
       "13:00:00     9857.782256\n",
       "14:00:00    10168.613918\n",
       "15:00:00    10517.485378\n",
       "16:00:00    10829.783512\n",
       "17:00:00     9831.566370\n",
       "18:00:00     5922.596003\n",
       "19:00:00     1639.595242\n",
       "20:00:00      292.538621\n",
       "21:00:00        0.000000\n",
       "22:00:00        0.000000\n",
       "23:00:00        0.000000\n",
       "Name: mean_power, dtype: float64"
      ]
     },
     "execution_count": 37,
     "metadata": {},
     "output_type": "execute_result"
    }
   ],
   "source": [
    "std_df"
   ]
  },
  {
   "cell_type": "code",
   "execution_count": 34,
   "id": "360d74c5",
   "metadata": {},
   "outputs": [],
   "source": [
    "std_list = []\n",
    "for i in std_df:\n",
    "    if str(i) == 'nan':\n",
    "        i = 0.0\n",
    "    std_list.append(float(i/1000))"
   ]
  },
  {
   "cell_type": "code",
   "execution_count": 36,
   "id": "ea8e36f3",
   "metadata": {},
   "outputs": [
    {
     "data": {
      "image/png": "[encoded data removed]",
      "text/plain": [
       "<Figure size 864x432 with 1 Axes>"
      ]
     },
     "metadata": {
      "needs_background": "light"
     },
     "output_type": "display_data"
    }
   ],
   "source": [
    "import matplotlib.pyplot as plt\n",
    "import numpy as np\n",
    "\n",
    "plt.figure(figsize=(12,6))\n",
    "labels = x_data_df\n",
    "avg_data = y_data_df\n",
    "std_data = std_list\n",
    "\n",
    "x = np.arange(len(labels))  # the label locations\n",
    "width = 0.3  # the width of the bars\n",
    "\n",
    "# fig, ax = plt.subplots()\n",
    "plt.bar(x - width/2, avg_data, width, color='blue', edgecolor='#111111', label='Average Mean Power [KW]')\n",
    "plt.bar(x + width/2, std_data, width, color='green', edgecolor='#111111', label='Standard Deviation')\n",
    "\n",
    "plt.xlabel('Time [H]', fontsize=20)\n",
    "plt.ylabel('Average Mean Power [KW]', fontsize=20)\n",
    "plt.title(\"Average Power (Blue) and Standard Deviation (Green)\", fontsize=25, pad=20)\n",
    "\n",
    "plt.gca().xaxis.set_major_formatter(FormatStrFormatter('%d H'))\n",
    "plt.gca().yaxis.set_major_formatter(FormatStrFormatter('%d KW'))\n",
    "plt.rcParams['xtick.labelsize']=15\n",
    "plt.rcParams['ytick.labelsize']=15\n",
    "plt.margins(x=0)\n",
    "plt.margins(y=0)\n",
    "# plt.legend()\n",
    "\n",
    "plt.show()"
   ]
  },
  {
   "cell_type": "code",
   "execution_count": null,
   "id": "225ea40b",
   "metadata": {},
   "outputs": [],
   "source": []
  }
 ],
 "metadata": {
  "kernelspec": {
   "display_name": "Python 3 (ipykernel)",
   "language": "python",
   "name": "python3"
  },
  "language_info": {
   "codemirror_mode": {
    "name": "ipython",
    "version": 3
   },
   "file_extension": ".py",
   "mimetype": "text/x-python",
   "name": "python",
   "nbconvert_exporter": "python",
   "pygments_lexer": "ipython3",
   "version": "3.7.9"
  }
 },
 "nbformat": 4,
 "nbformat_minor": 5
}
