{
 "cells": [
  {
   "cell_type": "code",
   "execution_count": 1,
   "id": "ababb608",
   "metadata": {},
   "outputs": [],
   "source": [
    "import pandas as pd"
   ]
  },
  {
   "cell_type": "code",
   "execution_count": 2,
   "id": "deacb911",
   "metadata": {},
   "outputs": [],
   "source": [
    "gym = pd.read_csv(\"gym.csv\")"
   ]
  },
  {
   "cell_type": "code",
   "execution_count": 3,
   "id": "65277002",
   "metadata": {},
   "outputs": [
    {
     "name": "stdout",
     "output_type": "stream",
     "text": [
      "                 timestamp  min_power  mean_power  max_power\n",
      "0      2010-04-06 01:00:00          0           0          0\n",
      "1      2010-04-06 02:00:00          0           0          0\n",
      "2      2010-04-06 03:00:00          0           0          0\n",
      "3      2010-04-06 04:00:00          0           0          0\n",
      "4      2010-04-06 05:00:00          0           0          0\n",
      "...                    ...        ...         ...        ...\n",
      "87403  2020-12-31 20:00:00          0           0          0\n",
      "87404  2020-12-31 21:00:00          0           0          0\n",
      "87405  2020-12-31 22:00:00          0           0          0\n",
      "87406  2020-12-31 23:00:00          0           0          0\n",
      "87407  2020-12-31 00:00:00          0           0          0\n",
      "\n",
      "[87408 rows x 4 columns]\n"
     ]
    }
   ],
   "source": [
    "print(gym)"
   ]
  },
  {
   "cell_type": "code",
   "execution_count": 4,
   "id": "bfec6304",
   "metadata": {},
   "outputs": [
    {
     "data": {
      "text/plain": [
       "timestamp     object\n",
       "min_power      int64\n",
       "mean_power     int64\n",
       "max_power      int64\n",
       "dtype: object"
      ]
     },
     "execution_count": 4,
     "metadata": {},
     "output_type": "execute_result"
    }
   ],
   "source": [
    "gym.dtypes"
   ]
  },
  {
   "cell_type": "code",
   "execution_count": 5,
   "id": "d8e803dc",
   "metadata": {},
   "outputs": [
    {
     "name": "stdout",
     "output_type": "stream",
     "text": [
      "<class 'str'>\n"
     ]
    }
   ],
   "source": [
    "print(type(gym['timestamp'][0]))"
   ]
  },
  {
   "cell_type": "code",
   "execution_count": 6,
   "id": "a08115f3",
   "metadata": {},
   "outputs": [],
   "source": [
    "from datetime import datetime"
   ]
  },
  {
   "cell_type": "code",
   "execution_count": 7,
   "id": "5f739e37",
   "metadata": {},
   "outputs": [],
   "source": [
    "gym['timestamp'] = pd.to_datetime(gym['timestamp'])"
   ]
  },
  {
   "cell_type": "code",
   "execution_count": 8,
   "id": "394736d0",
   "metadata": {},
   "outputs": [
    {
     "name": "stdout",
     "output_type": "stream",
     "text": [
      "                timestamp  min_power  mean_power  max_power\n",
      "0     2010-04-06 01:00:00          0           0          0\n",
      "1     2010-04-06 02:00:00          0           0          0\n",
      "2     2010-04-06 03:00:00          0           0          0\n",
      "3     2010-04-06 04:00:00          0           0          0\n",
      "4     2010-04-06 05:00:00          0           0          0\n",
      "...                   ...        ...         ...        ...\n",
      "87403 2020-12-31 20:00:00          0           0          0\n",
      "87404 2020-12-31 21:00:00          0           0          0\n",
      "87405 2020-12-31 22:00:00          0           0          0\n",
      "87406 2020-12-31 23:00:00          0           0          0\n",
      "87407 2020-12-31 00:00:00          0           0          0\n",
      "\n",
      "[87408 rows x 4 columns]\n"
     ]
    }
   ],
   "source": [
    "print(gym)"
   ]
  },
  {
   "cell_type": "code",
   "execution_count": 9,
   "id": "6369e2a9",
   "metadata": {},
   "outputs": [
    {
     "data": {
      "text/plain": [
       "timestamp     datetime64[ns]\n",
       "min_power              int64\n",
       "mean_power             int64\n",
       "max_power              int64\n",
       "dtype: object"
      ]
     },
     "execution_count": 9,
     "metadata": {},
     "output_type": "execute_result"
    }
   ],
   "source": [
    "gym.dtypes"
   ]
  },
  {
   "cell_type": "code",
   "execution_count": 10,
   "id": "505aa3c1",
   "metadata": {},
   "outputs": [],
   "source": [
    "new_df = gym"
   ]
  },
  {
   "cell_type": "code",
   "execution_count": 11,
   "id": "42ed77df",
   "metadata": {},
   "outputs": [
    {
     "data": {
      "text/html": [
       "<div>\n",
       "<style scoped>\n",
       "    .dataframe tbody tr th:only-of-type {\n",
       "        vertical-align: middle;\n",
       "    }\n",
       "\n",
       "    .dataframe tbody tr th {\n",
       "        vertical-align: top;\n",
       "    }\n",
       "\n",
       "    .dataframe thead th {\n",
       "        text-align: right;\n",
       "    }\n",
       "</style>\n",
       "<table border=\"1\" class=\"dataframe\">\n",
       "  <thead>\n",
       "    <tr style=\"text-align: right;\">\n",
       "      <th></th>\n",
       "      <th>timestamp</th>\n",
       "      <th>min_power</th>\n",
       "      <th>mean_power</th>\n",
       "      <th>max_power</th>\n",
       "    </tr>\n",
       "  </thead>\n",
       "  <tbody>\n",
       "    <tr>\n",
       "      <th>0</th>\n",
       "      <td>2010-04-06 01:00:00</td>\n",
       "      <td>0</td>\n",
       "      <td>0</td>\n",
       "      <td>0</td>\n",
       "    </tr>\n",
       "    <tr>\n",
       "      <th>1</th>\n",
       "      <td>2010-04-06 02:00:00</td>\n",
       "      <td>0</td>\n",
       "      <td>0</td>\n",
       "      <td>0</td>\n",
       "    </tr>\n",
       "    <tr>\n",
       "      <th>2</th>\n",
       "      <td>2010-04-06 03:00:00</td>\n",
       "      <td>0</td>\n",
       "      <td>0</td>\n",
       "      <td>0</td>\n",
       "    </tr>\n",
       "    <tr>\n",
       "      <th>3</th>\n",
       "      <td>2010-04-06 04:00:00</td>\n",
       "      <td>0</td>\n",
       "      <td>0</td>\n",
       "      <td>0</td>\n",
       "    </tr>\n",
       "    <tr>\n",
       "      <th>4</th>\n",
       "      <td>2010-04-06 05:00:00</td>\n",
       "      <td>0</td>\n",
       "      <td>0</td>\n",
       "      <td>0</td>\n",
       "    </tr>\n",
       "    <tr>\n",
       "      <th>...</th>\n",
       "      <td>...</td>\n",
       "      <td>...</td>\n",
       "      <td>...</td>\n",
       "      <td>...</td>\n",
       "    </tr>\n",
       "    <tr>\n",
       "      <th>87403</th>\n",
       "      <td>2020-12-31 20:00:00</td>\n",
       "      <td>0</td>\n",
       "      <td>0</td>\n",
       "      <td>0</td>\n",
       "    </tr>\n",
       "    <tr>\n",
       "      <th>87404</th>\n",
       "      <td>2020-12-31 21:00:00</td>\n",
       "      <td>0</td>\n",
       "      <td>0</td>\n",
       "      <td>0</td>\n",
       "    </tr>\n",
       "    <tr>\n",
       "      <th>87405</th>\n",
       "      <td>2020-12-31 22:00:00</td>\n",
       "      <td>0</td>\n",
       "      <td>0</td>\n",
       "      <td>0</td>\n",
       "    </tr>\n",
       "    <tr>\n",
       "      <th>87406</th>\n",
       "      <td>2020-12-31 23:00:00</td>\n",
       "      <td>0</td>\n",
       "      <td>0</td>\n",
       "      <td>0</td>\n",
       "    </tr>\n",
       "    <tr>\n",
       "      <th>87407</th>\n",
       "      <td>2020-12-31 00:00:00</td>\n",
       "      <td>0</td>\n",
       "      <td>0</td>\n",
       "      <td>0</td>\n",
       "    </tr>\n",
       "  </tbody>\n",
       "</table>\n",
       "<p>87408 rows × 4 columns</p>\n",
       "</div>"
      ],
      "text/plain": [
       "                timestamp  min_power  mean_power  max_power\n",
       "0     2010-04-06 01:00:00          0           0          0\n",
       "1     2010-04-06 02:00:00          0           0          0\n",
       "2     2010-04-06 03:00:00          0           0          0\n",
       "3     2010-04-06 04:00:00          0           0          0\n",
       "4     2010-04-06 05:00:00          0           0          0\n",
       "...                   ...        ...         ...        ...\n",
       "87403 2020-12-31 20:00:00          0           0          0\n",
       "87404 2020-12-31 21:00:00          0           0          0\n",
       "87405 2020-12-31 22:00:00          0           0          0\n",
       "87406 2020-12-31 23:00:00          0           0          0\n",
       "87407 2020-12-31 00:00:00          0           0          0\n",
       "\n",
       "[87408 rows x 4 columns]"
      ]
     },
     "execution_count": 11,
     "metadata": {},
     "output_type": "execute_result"
    }
   ],
   "source": [
    "new_df"
   ]
  },
  {
   "cell_type": "code",
   "execution_count": 12,
   "id": "e3ac2bfa",
   "metadata": {},
   "outputs": [
    {
     "data": {
      "text/plain": [
       "timestamp     datetime64[ns]\n",
       "min_power              int64\n",
       "mean_power             int64\n",
       "max_power              int64\n",
       "dtype: object"
      ]
     },
     "execution_count": 12,
     "metadata": {},
     "output_type": "execute_result"
    }
   ],
   "source": [
    "new_df.dtypes"
   ]
  },
  {
   "cell_type": "code",
   "execution_count": 13,
   "id": "2c2d232b",
   "metadata": {},
   "outputs": [],
   "source": [
    "import pandasql as ps"
   ]
  },
  {
   "cell_type": "code",
   "execution_count": 14,
   "id": "7c01a48c",
   "metadata": {
    "scrolled": true
   },
   "outputs": [],
   "source": [
    "query = \"\"\"SELECT * FROM new_df WHERE TIME(timestamp) BETWEEN TIME('05:00:00') AND TIME('19:00:00') AND mean_power = 0\"\"\"\n",
    "zero_df = ps.sqldf(query, locals())"
   ]
  },
  {
   "cell_type": "code",
   "execution_count": 15,
   "id": "ddc5296f",
   "metadata": {},
   "outputs": [
    {
     "data": {
      "text/html": [
       "<div>\n",
       "<style scoped>\n",
       "    .dataframe tbody tr th:only-of-type {\n",
       "        vertical-align: middle;\n",
       "    }\n",
       "\n",
       "    .dataframe tbody tr th {\n",
       "        vertical-align: top;\n",
       "    }\n",
       "\n",
       "    .dataframe thead th {\n",
       "        text-align: right;\n",
       "    }\n",
       "</style>\n",
       "<table border=\"1\" class=\"dataframe\">\n",
       "  <thead>\n",
       "    <tr style=\"text-align: right;\">\n",
       "      <th></th>\n",
       "      <th>timestamp</th>\n",
       "      <th>min_power</th>\n",
       "      <th>mean_power</th>\n",
       "      <th>max_power</th>\n",
       "    </tr>\n",
       "  </thead>\n",
       "  <tbody>\n",
       "    <tr>\n",
       "      <th>0</th>\n",
       "      <td>2010-04-06 05:00:00.000000</td>\n",
       "      <td>0</td>\n",
       "      <td>0</td>\n",
       "      <td>0</td>\n",
       "    </tr>\n",
       "    <tr>\n",
       "      <th>1</th>\n",
       "      <td>2010-04-06 19:00:00.000000</td>\n",
       "      <td>0</td>\n",
       "      <td>0</td>\n",
       "      <td>0</td>\n",
       "    </tr>\n",
       "    <tr>\n",
       "      <th>2</th>\n",
       "      <td>2010-04-07 05:00:00.000000</td>\n",
       "      <td>0</td>\n",
       "      <td>0</td>\n",
       "      <td>0</td>\n",
       "    </tr>\n",
       "    <tr>\n",
       "      <th>3</th>\n",
       "      <td>2010-04-07 19:00:00.000000</td>\n",
       "      <td>0</td>\n",
       "      <td>0</td>\n",
       "      <td>0</td>\n",
       "    </tr>\n",
       "    <tr>\n",
       "      <th>4</th>\n",
       "      <td>2010-04-08 05:00:00.000000</td>\n",
       "      <td>0</td>\n",
       "      <td>0</td>\n",
       "      <td>0</td>\n",
       "    </tr>\n",
       "    <tr>\n",
       "      <th>...</th>\n",
       "      <td>...</td>\n",
       "      <td>...</td>\n",
       "      <td>...</td>\n",
       "      <td>...</td>\n",
       "    </tr>\n",
       "    <tr>\n",
       "      <th>9422</th>\n",
       "      <td>2020-12-30 19:00:00.000000</td>\n",
       "      <td>0</td>\n",
       "      <td>0</td>\n",
       "      <td>0</td>\n",
       "    </tr>\n",
       "    <tr>\n",
       "      <th>9423</th>\n",
       "      <td>2020-12-31 05:00:00.000000</td>\n",
       "      <td>0</td>\n",
       "      <td>0</td>\n",
       "      <td>0</td>\n",
       "    </tr>\n",
       "    <tr>\n",
       "      <th>9424</th>\n",
       "      <td>2020-12-31 06:00:00.000000</td>\n",
       "      <td>0</td>\n",
       "      <td>0</td>\n",
       "      <td>0</td>\n",
       "    </tr>\n",
       "    <tr>\n",
       "      <th>9425</th>\n",
       "      <td>2020-12-31 18:00:00.000000</td>\n",
       "      <td>0</td>\n",
       "      <td>0</td>\n",
       "      <td>0</td>\n",
       "    </tr>\n",
       "    <tr>\n",
       "      <th>9426</th>\n",
       "      <td>2020-12-31 19:00:00.000000</td>\n",
       "      <td>0</td>\n",
       "      <td>0</td>\n",
       "      <td>0</td>\n",
       "    </tr>\n",
       "  </tbody>\n",
       "</table>\n",
       "<p>9427 rows × 4 columns</p>\n",
       "</div>"
      ],
      "text/plain": [
       "                       timestamp  min_power  mean_power  max_power\n",
       "0     2010-04-06 05:00:00.000000          0           0          0\n",
       "1     2010-04-06 19:00:00.000000          0           0          0\n",
       "2     2010-04-07 05:00:00.000000          0           0          0\n",
       "3     2010-04-07 19:00:00.000000          0           0          0\n",
       "4     2010-04-08 05:00:00.000000          0           0          0\n",
       "...                          ...        ...         ...        ...\n",
       "9422  2020-12-30 19:00:00.000000          0           0          0\n",
       "9423  2020-12-31 05:00:00.000000          0           0          0\n",
       "9424  2020-12-31 06:00:00.000000          0           0          0\n",
       "9425  2020-12-31 18:00:00.000000          0           0          0\n",
       "9426  2020-12-31 19:00:00.000000          0           0          0\n",
       "\n",
       "[9427 rows x 4 columns]"
      ]
     },
     "execution_count": 15,
     "metadata": {},
     "output_type": "execute_result"
    }
   ],
   "source": [
    "zero_df"
   ]
  },
  {
   "cell_type": "code",
   "execution_count": 16,
   "id": "8906ecd6",
   "metadata": {},
   "outputs": [
    {
     "data": {
      "text/plain": [
       "timestamp     object\n",
       "min_power      int64\n",
       "mean_power     int64\n",
       "max_power      int64\n",
       "dtype: object"
      ]
     },
     "execution_count": 16,
     "metadata": {},
     "output_type": "execute_result"
    }
   ],
   "source": [
    "zero_df.dtypes"
   ]
  },
  {
   "cell_type": "code",
   "execution_count": 17,
   "id": "4e7cb8cc",
   "metadata": {},
   "outputs": [],
   "source": [
    "zero_df['timestamp'] = pd.to_datetime(zero_df['timestamp'])"
   ]
  },
  {
   "cell_type": "code",
   "execution_count": 18,
   "id": "85113140",
   "metadata": {},
   "outputs": [
    {
     "data": {
      "text/plain": [
       "timestamp     datetime64[ns]\n",
       "min_power              int64\n",
       "mean_power             int64\n",
       "max_power              int64\n",
       "dtype: object"
      ]
     },
     "execution_count": 18,
     "metadata": {},
     "output_type": "execute_result"
    }
   ],
   "source": [
    "zero_df.dtypes"
   ]
  },
  {
   "cell_type": "code",
   "execution_count": 19,
   "id": "8c054af5",
   "metadata": {
    "scrolled": false
   },
   "outputs": [
    {
     "data": {
      "text/html": [
       "<div>\n",
       "<style scoped>\n",
       "    .dataframe tbody tr th:only-of-type {\n",
       "        vertical-align: middle;\n",
       "    }\n",
       "\n",
       "    .dataframe tbody tr th {\n",
       "        vertical-align: top;\n",
       "    }\n",
       "\n",
       "    .dataframe thead th {\n",
       "        text-align: right;\n",
       "    }\n",
       "</style>\n",
       "<table border=\"1\" class=\"dataframe\">\n",
       "  <thead>\n",
       "    <tr style=\"text-align: right;\">\n",
       "      <th></th>\n",
       "      <th>timestamp</th>\n",
       "      <th>min_power</th>\n",
       "      <th>mean_power</th>\n",
       "      <th>max_power</th>\n",
       "    </tr>\n",
       "  </thead>\n",
       "  <tbody>\n",
       "    <tr>\n",
       "      <th>0</th>\n",
       "      <td>2010-04-06 05:00:00</td>\n",
       "      <td>0</td>\n",
       "      <td>0</td>\n",
       "      <td>0</td>\n",
       "    </tr>\n",
       "    <tr>\n",
       "      <th>1</th>\n",
       "      <td>2010-04-06 19:00:00</td>\n",
       "      <td>0</td>\n",
       "      <td>0</td>\n",
       "      <td>0</td>\n",
       "    </tr>\n",
       "    <tr>\n",
       "      <th>2</th>\n",
       "      <td>2010-04-07 05:00:00</td>\n",
       "      <td>0</td>\n",
       "      <td>0</td>\n",
       "      <td>0</td>\n",
       "    </tr>\n",
       "    <tr>\n",
       "      <th>3</th>\n",
       "      <td>2010-04-07 19:00:00</td>\n",
       "      <td>0</td>\n",
       "      <td>0</td>\n",
       "      <td>0</td>\n",
       "    </tr>\n",
       "    <tr>\n",
       "      <th>4</th>\n",
       "      <td>2010-04-08 05:00:00</td>\n",
       "      <td>0</td>\n",
       "      <td>0</td>\n",
       "      <td>0</td>\n",
       "    </tr>\n",
       "    <tr>\n",
       "      <th>...</th>\n",
       "      <td>...</td>\n",
       "      <td>...</td>\n",
       "      <td>...</td>\n",
       "      <td>...</td>\n",
       "    </tr>\n",
       "    <tr>\n",
       "      <th>9422</th>\n",
       "      <td>2020-12-30 19:00:00</td>\n",
       "      <td>0</td>\n",
       "      <td>0</td>\n",
       "      <td>0</td>\n",
       "    </tr>\n",
       "    <tr>\n",
       "      <th>9423</th>\n",
       "      <td>2020-12-31 05:00:00</td>\n",
       "      <td>0</td>\n",
       "      <td>0</td>\n",
       "      <td>0</td>\n",
       "    </tr>\n",
       "    <tr>\n",
       "      <th>9424</th>\n",
       "      <td>2020-12-31 06:00:00</td>\n",
       "      <td>0</td>\n",
       "      <td>0</td>\n",
       "      <td>0</td>\n",
       "    </tr>\n",
       "    <tr>\n",
       "      <th>9425</th>\n",
       "      <td>2020-12-31 18:00:00</td>\n",
       "      <td>0</td>\n",
       "      <td>0</td>\n",
       "      <td>0</td>\n",
       "    </tr>\n",
       "    <tr>\n",
       "      <th>9426</th>\n",
       "      <td>2020-12-31 19:00:00</td>\n",
       "      <td>0</td>\n",
       "      <td>0</td>\n",
       "      <td>0</td>\n",
       "    </tr>\n",
       "  </tbody>\n",
       "</table>\n",
       "<p>9427 rows × 4 columns</p>\n",
       "</div>"
      ],
      "text/plain": [
       "               timestamp  min_power  mean_power  max_power\n",
       "0    2010-04-06 05:00:00          0           0          0\n",
       "1    2010-04-06 19:00:00          0           0          0\n",
       "2    2010-04-07 05:00:00          0           0          0\n",
       "3    2010-04-07 19:00:00          0           0          0\n",
       "4    2010-04-08 05:00:00          0           0          0\n",
       "...                  ...        ...         ...        ...\n",
       "9422 2020-12-30 19:00:00          0           0          0\n",
       "9423 2020-12-31 05:00:00          0           0          0\n",
       "9424 2020-12-31 06:00:00          0           0          0\n",
       "9425 2020-12-31 18:00:00          0           0          0\n",
       "9426 2020-12-31 19:00:00          0           0          0\n",
       "\n",
       "[9427 rows x 4 columns]"
      ]
     },
     "execution_count": 19,
     "metadata": {},
     "output_type": "execute_result"
    }
   ],
   "source": [
    "zero_df"
   ]
  },
  {
   "cell_type": "code",
   "execution_count": 20,
   "id": "6371f342",
   "metadata": {},
   "outputs": [],
   "source": [
    "final_df = pd.merge(new_df,zero_df, indicator=True, how='outer').query('_merge==\"left_only\"').drop('_merge', axis=1)"
   ]
  },
  {
   "cell_type": "code",
   "execution_count": 21,
   "id": "8072cf42",
   "metadata": {
    "scrolled": false
   },
   "outputs": [
    {
     "data": {
      "text/html": [
       "<div>\n",
       "<style scoped>\n",
       "    .dataframe tbody tr th:only-of-type {\n",
       "        vertical-align: middle;\n",
       "    }\n",
       "\n",
       "    .dataframe tbody tr th {\n",
       "        vertical-align: top;\n",
       "    }\n",
       "\n",
       "    .dataframe thead th {\n",
       "        text-align: right;\n",
       "    }\n",
       "</style>\n",
       "<table border=\"1\" class=\"dataframe\">\n",
       "  <thead>\n",
       "    <tr style=\"text-align: right;\">\n",
       "      <th></th>\n",
       "      <th>timestamp</th>\n",
       "      <th>min_power</th>\n",
       "      <th>mean_power</th>\n",
       "      <th>max_power</th>\n",
       "    </tr>\n",
       "  </thead>\n",
       "  <tbody>\n",
       "    <tr>\n",
       "      <th>0</th>\n",
       "      <td>2010-04-06 01:00:00</td>\n",
       "      <td>0</td>\n",
       "      <td>0</td>\n",
       "      <td>0</td>\n",
       "    </tr>\n",
       "    <tr>\n",
       "      <th>1</th>\n",
       "      <td>2010-04-06 02:00:00</td>\n",
       "      <td>0</td>\n",
       "      <td>0</td>\n",
       "      <td>0</td>\n",
       "    </tr>\n",
       "    <tr>\n",
       "      <th>2</th>\n",
       "      <td>2010-04-06 03:00:00</td>\n",
       "      <td>0</td>\n",
       "      <td>0</td>\n",
       "      <td>0</td>\n",
       "    </tr>\n",
       "    <tr>\n",
       "      <th>3</th>\n",
       "      <td>2010-04-06 04:00:00</td>\n",
       "      <td>0</td>\n",
       "      <td>0</td>\n",
       "      <td>0</td>\n",
       "    </tr>\n",
       "    <tr>\n",
       "      <th>5</th>\n",
       "      <td>2010-04-06 06:00:00</td>\n",
       "      <td>0</td>\n",
       "      <td>210</td>\n",
       "      <td>540</td>\n",
       "    </tr>\n",
       "    <tr>\n",
       "      <th>...</th>\n",
       "      <td>...</td>\n",
       "      <td>...</td>\n",
       "      <td>...</td>\n",
       "      <td>...</td>\n",
       "    </tr>\n",
       "    <tr>\n",
       "      <th>87403</th>\n",
       "      <td>2020-12-31 20:00:00</td>\n",
       "      <td>0</td>\n",
       "      <td>0</td>\n",
       "      <td>0</td>\n",
       "    </tr>\n",
       "    <tr>\n",
       "      <th>87404</th>\n",
       "      <td>2020-12-31 21:00:00</td>\n",
       "      <td>0</td>\n",
       "      <td>0</td>\n",
       "      <td>0</td>\n",
       "    </tr>\n",
       "    <tr>\n",
       "      <th>87405</th>\n",
       "      <td>2020-12-31 22:00:00</td>\n",
       "      <td>0</td>\n",
       "      <td>0</td>\n",
       "      <td>0</td>\n",
       "    </tr>\n",
       "    <tr>\n",
       "      <th>87406</th>\n",
       "      <td>2020-12-31 23:00:00</td>\n",
       "      <td>0</td>\n",
       "      <td>0</td>\n",
       "      <td>0</td>\n",
       "    </tr>\n",
       "    <tr>\n",
       "      <th>87407</th>\n",
       "      <td>2020-12-31 00:00:00</td>\n",
       "      <td>0</td>\n",
       "      <td>0</td>\n",
       "      <td>0</td>\n",
       "    </tr>\n",
       "  </tbody>\n",
       "</table>\n",
       "<p>77981 rows × 4 columns</p>\n",
       "</div>"
      ],
      "text/plain": [
       "                timestamp  min_power  mean_power  max_power\n",
       "0     2010-04-06 01:00:00          0           0          0\n",
       "1     2010-04-06 02:00:00          0           0          0\n",
       "2     2010-04-06 03:00:00          0           0          0\n",
       "3     2010-04-06 04:00:00          0           0          0\n",
       "5     2010-04-06 06:00:00          0         210        540\n",
       "...                   ...        ...         ...        ...\n",
       "87403 2020-12-31 20:00:00          0           0          0\n",
       "87404 2020-12-31 21:00:00          0           0          0\n",
       "87405 2020-12-31 22:00:00          0           0          0\n",
       "87406 2020-12-31 23:00:00          0           0          0\n",
       "87407 2020-12-31 00:00:00          0           0          0\n",
       "\n",
       "[77981 rows x 4 columns]"
      ]
     },
     "execution_count": 21,
     "metadata": {},
     "output_type": "execute_result"
    }
   ],
   "source": [
    "final_df"
   ]
  },
  {
   "cell_type": "code",
   "execution_count": 22,
   "id": "fcb30b69",
   "metadata": {},
   "outputs": [],
   "source": [
    "final_df.to_csv('gym_non_zero.csv')"
   ]
  },
  {
   "cell_type": "code",
   "execution_count": 23,
   "id": "dfc92020",
   "metadata": {},
   "outputs": [],
   "source": [
    "query2 = \"\"\"SELECT AVG(mean_power) FROM final_df GROUP BY TIME(timestamp)\"\"\"\n",
    "answer_avg = ps.sqldf(query2, locals())"
   ]
  },
  {
   "cell_type": "code",
   "execution_count": 24,
   "id": "dc33ac7c",
   "metadata": {},
   "outputs": [],
   "source": [
    "answer_avg = answer_avg.rename(columns={'AVG(mean_power)': 'Average Mean Power'})"
   ]
  },
  {
   "cell_type": "code",
   "execution_count": 25,
   "id": "64425088",
   "metadata": {},
   "outputs": [],
   "source": [
    "answer_avg.index.names = ['Timestamp']"
   ]
  },
  {
   "cell_type": "code",
   "execution_count": 35,
   "id": "64dc50df",
   "metadata": {},
   "outputs": [
    {
     "data": {
      "text/html": [
       "<div>\n",
       "<style scoped>\n",
       "    .dataframe tbody tr th:only-of-type {\n",
       "        vertical-align: middle;\n",
       "    }\n",
       "\n",
       "    .dataframe tbody tr th {\n",
       "        vertical-align: top;\n",
       "    }\n",
       "\n",
       "    .dataframe thead th {\n",
       "        text-align: right;\n",
       "    }\n",
       "</style>\n",
       "<table border=\"1\" class=\"dataframe\">\n",
       "  <thead>\n",
       "    <tr style=\"text-align: right;\">\n",
       "      <th></th>\n",
       "      <th>Average Mean Power</th>\n",
       "    </tr>\n",
       "    <tr>\n",
       "      <th>Timestamp</th>\n",
       "      <th></th>\n",
       "    </tr>\n",
       "  </thead>\n",
       "  <tbody>\n",
       "    <tr>\n",
       "      <th>0</th>\n",
       "      <td>0.000000</td>\n",
       "    </tr>\n",
       "    <tr>\n",
       "      <th>1</th>\n",
       "      <td>0.000000</td>\n",
       "    </tr>\n",
       "    <tr>\n",
       "      <th>2</th>\n",
       "      <td>0.000000</td>\n",
       "    </tr>\n",
       "    <tr>\n",
       "      <th>3</th>\n",
       "      <td>0.000000</td>\n",
       "    </tr>\n",
       "    <tr>\n",
       "      <th>4</th>\n",
       "      <td>0.000000</td>\n",
       "    </tr>\n",
       "    <tr>\n",
       "      <th>5</th>\n",
       "      <td>84.517663</td>\n",
       "    </tr>\n",
       "    <tr>\n",
       "      <th>6</th>\n",
       "      <td>809.356164</td>\n",
       "    </tr>\n",
       "    <tr>\n",
       "      <th>7</th>\n",
       "      <td>3894.614876</td>\n",
       "    </tr>\n",
       "    <tr>\n",
       "      <th>8</th>\n",
       "      <td>10510.811742</td>\n",
       "    </tr>\n",
       "    <tr>\n",
       "      <th>9</th>\n",
       "      <td>17989.046621</td>\n",
       "    </tr>\n",
       "    <tr>\n",
       "      <th>10</th>\n",
       "      <td>24559.099310</td>\n",
       "    </tr>\n",
       "    <tr>\n",
       "      <th>11</th>\n",
       "      <td>29162.652042</td>\n",
       "    </tr>\n",
       "    <tr>\n",
       "      <th>12</th>\n",
       "      <td>31398.650138</td>\n",
       "    </tr>\n",
       "    <tr>\n",
       "      <th>13</th>\n",
       "      <td>30888.884118</td>\n",
       "    </tr>\n",
       "    <tr>\n",
       "      <th>14</th>\n",
       "      <td>26349.075399</td>\n",
       "    </tr>\n",
       "    <tr>\n",
       "      <th>15</th>\n",
       "      <td>20405.830121</td>\n",
       "    </tr>\n",
       "    <tr>\n",
       "      <th>16</th>\n",
       "      <td>14247.469923</td>\n",
       "    </tr>\n",
       "    <tr>\n",
       "      <th>17</th>\n",
       "      <td>10221.432346</td>\n",
       "    </tr>\n",
       "    <tr>\n",
       "      <th>18</th>\n",
       "      <td>4590.718974</td>\n",
       "    </tr>\n",
       "    <tr>\n",
       "      <th>19</th>\n",
       "      <td>243.305601</td>\n",
       "    </tr>\n",
       "    <tr>\n",
       "      <th>20</th>\n",
       "      <td>0.003020</td>\n",
       "    </tr>\n",
       "    <tr>\n",
       "      <th>21</th>\n",
       "      <td>0.000000</td>\n",
       "    </tr>\n",
       "    <tr>\n",
       "      <th>22</th>\n",
       "      <td>0.000000</td>\n",
       "    </tr>\n",
       "  </tbody>\n",
       "</table>\n",
       "</div>"
      ],
      "text/plain": [
       "           Average Mean Power\n",
       "Timestamp                    \n",
       "0                    0.000000\n",
       "1                    0.000000\n",
       "2                    0.000000\n",
       "3                    0.000000\n",
       "4                    0.000000\n",
       "5                   84.517663\n",
       "6                  809.356164\n",
       "7                 3894.614876\n",
       "8                10510.811742\n",
       "9                17989.046621\n",
       "10               24559.099310\n",
       "11               29162.652042\n",
       "12               31398.650138\n",
       "13               30888.884118\n",
       "14               26349.075399\n",
       "15               20405.830121\n",
       "16               14247.469923\n",
       "17               10221.432346\n",
       "18                4590.718974\n",
       "19                 243.305601\n",
       "20                   0.003020\n",
       "21                   0.000000\n",
       "22                   0.000000"
      ]
     },
     "execution_count": 35,
     "metadata": {},
     "output_type": "execute_result"
    }
   ],
   "source": [
    "answer_avg"
   ]
  },
  {
   "cell_type": "code",
   "execution_count": 26,
   "id": "a5a3cc17",
   "metadata": {},
   "outputs": [],
   "source": [
    "import matplotlib.pyplot as plt"
   ]
  },
  {
   "cell_type": "code",
   "execution_count": 27,
   "id": "e17f1a4f",
   "metadata": {},
   "outputs": [],
   "source": [
    "y_data_df = []\n",
    "for i in answer_avg['Average Mean Power']:\n",
    "    y_data_df.append(float(i/1000))"
   ]
  },
  {
   "cell_type": "code",
   "execution_count": 28,
   "id": "d806d558",
   "metadata": {},
   "outputs": [],
   "source": [
    "x_data_df = []\n",
    "for i in answer_avg.index:\n",
    "    x_data_df.append(i)"
   ]
  },
  {
   "cell_type": "code",
   "execution_count": 29,
   "id": "d0d01160",
   "metadata": {},
   "outputs": [],
   "source": [
    "import matplotlib.pyplot as plt\n",
    "from matplotlib.ticker import FormatStrFormatter"
   ]
  },
  {
   "cell_type": "code",
   "execution_count": 39,
   "id": "eb676cf2",
   "metadata": {},
   "outputs": [
    {
     "data": {
      "text/plain": [
       "<Figure size 432x288 with 0 Axes>"
      ]
     },
     "metadata": {},
     "output_type": "display_data"
    },
    {
     "data": {
      "image/png": "[encoded data removed]",
      "text/plain": [
       "<Figure size 720x504 with 1 Axes>"
      ]
     },
     "metadata": {
      "needs_background": "light"
     },
     "output_type": "display_data"
    }
   ],
   "source": [
    "fig=plt.figure()\n",
    "\n",
    "plt.figure(figsize=(10,7))\n",
    "plt.bar(x=x_data_df, height=y_data_df,color='white', edgecolor='#111111')\n",
    "plt.title(\"GYM Average Mean Power Data\", fontsize=25, pad=20)\n",
    "plt.xlabel('Timestamp [H]', fontsize=18)\n",
    "plt.ylabel('Average Mean Power [KWh]', fontsize=18)\n",
    "# plt.gca().yaxis.set_major_formatter(FormatStrFormatter('%d KWh'))\n",
    "# plt.fill_between(x_data_df, y_data_df,color='#000000')\n",
    "# plt.figure(figsize=(5, 5))\n",
    "\n",
    "\n",
    "plt.show()"
   ]
  },
  {
   "cell_type": "code",
   "execution_count": 31,
   "id": "193c2a51",
   "metadata": {},
   "outputs": [],
   "source": [
    "std_df = final_df.groupby([final_df['timestamp'].dt.time])['mean_power'].std()"
   ]
  },
  {
   "cell_type": "code",
   "execution_count": 36,
   "id": "c9e97b55",
   "metadata": {},
   "outputs": [
    {
     "data": {
      "text/plain": [
       "timestamp\n",
       "00:00:00        0.000000\n",
       "01:00:00        0.000000\n",
       "02:00:00        0.000000\n",
       "03:00:00        0.000000\n",
       "04:00:00        0.000000\n",
       "06:00:00      121.392139\n",
       "07:00:00      659.010126\n",
       "08:00:00     2012.926096\n",
       "09:00:00     3812.029445\n",
       "10:00:00     5311.050290\n",
       "11:00:00     6349.475441\n",
       "12:00:00     7252.200612\n",
       "13:00:00     7867.992522\n",
       "14:00:00     8745.301605\n",
       "15:00:00    11504.178632\n",
       "16:00:00    12851.923586\n",
       "17:00:00    11870.120804\n",
       "18:00:00     7538.790497\n",
       "19:00:00     2539.378136\n",
       "20:00:00      397.598719\n",
       "21:00:00        0.086061\n",
       "22:00:00        0.000000\n",
       "23:00:00        0.000000\n",
       "Name: mean_power, dtype: float64"
      ]
     },
     "execution_count": 36,
     "metadata": {},
     "output_type": "execute_result"
    }
   ],
   "source": [
    "std_df"
   ]
  },
  {
   "cell_type": "code",
   "execution_count": 32,
   "id": "360d74c5",
   "metadata": {},
   "outputs": [],
   "source": [
    "std_list = []\n",
    "for i in std_df:\n",
    "    if str(i) == 'nan':\n",
    "        i = 0.0\n",
    "    std_list.append(float(i/1000))"
   ]
  },
  {
   "cell_type": "code",
   "execution_count": 41,
   "id": "ea8e36f3",
   "metadata": {},
   "outputs": [
    {
     "data": {
      "image/png": "[encoded data removed]",
      "text/plain": [
       "<Figure size 864x432 with 1 Axes>"
      ]
     },
     "metadata": {
      "needs_background": "light"
     },
     "output_type": "display_data"
    }
   ],
   "source": [
    "import matplotlib.pyplot as plt\n",
    "import numpy as np\n",
    "\n",
    "plt.figure(figsize=(12,6))\n",
    "labels = x_data_df\n",
    "avg_data = y_data_df\n",
    "std_data = std_list\n",
    "\n",
    "x = np.arange(len(labels))  # the label locations\n",
    "width = 0.3  # the width of the bars\n",
    "\n",
    "# fig, ax = plt.subplots()\n",
    "plt.bar(x - width/2, avg_data, width, color='blue', edgecolor='#111111', label='Average Mean Power [KW]')\n",
    "plt.bar(x + width/2, std_data, width, color='green', edgecolor='#111111', label='Standard Deviation')\n",
    "\n",
    "plt.xlabel('Time [H]', fontsize=20)\n",
    "plt.ylabel('Average Mean Power [KW]', fontsize=20)\n",
    "plt.title(\"Average Power (Blue) and Standard Deviation (Green)\", fontsize=25, pad=20)\n",
    "\n",
    "plt.gca().xaxis.set_major_formatter(FormatStrFormatter('%d H'))\n",
    "plt.gca().yaxis.set_major_formatter(FormatStrFormatter('%d KW'))\n",
    "plt.rcParams['xtick.labelsize']=15\n",
    "plt.rcParams['ytick.labelsize']=15\n",
    "plt.margins(x=0)\n",
    "plt.margins(y=0)\n",
    "# plt.legend()\n",
    "\n",
    "plt.show()"
   ]
  },
  {
   "cell_type": "code",
   "execution_count": null,
   "id": "225ea40b",
   "metadata": {},
   "outputs": [],
   "source": []
  }
 ],
 "metadata": {
  "kernelspec": {
   "display_name": "Python 3 (ipykernel)",
   "language": "python",
   "name": "python3"
  },
  "language_info": {
   "codemirror_mode": {
    "name": "ipython",
    "version": 3
   },
   "file_extension": ".py",
   "mimetype": "text/x-python",
   "name": "python",
   "nbconvert_exporter": "python",
   "pygments_lexer": "ipython3",
   "version": "3.7.9"
  }
 },
 "nbformat": 4,
 "nbformat_minor": 5
}
